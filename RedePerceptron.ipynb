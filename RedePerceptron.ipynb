{
  "nbformat": 4,
  "nbformat_minor": 0,
  "metadata": {
    "colab": {
      "name": "RedePerceptron.ipynb",
      "provenance": [],
      "collapsed_sections": [],
      "authorship_tag": "ABX9TyPZG2lUWSB4WDdBg9vgm86m",
      "include_colab_link": true
    },
    "kernelspec": {
      "name": "python3",
      "display_name": "Python 3"
    }
  },
  "cells": [
    {
      "cell_type": "markdown",
      "metadata": {
        "id": "view-in-github",
        "colab_type": "text"
      },
      "source": [
        "<a href=\"https://colab.research.google.com/github/danielaolage/machineLearning/blob/master/RedePerceptron.ipynb\" target=\"_parent\"><img src=\"https://colab.research.google.com/assets/colab-badge.svg\" alt=\"Open In Colab\"/></a>"
      ]
    },
    {
      "cell_type": "code",
      "metadata": {
        "id": "n6SjVRMgzvCV",
        "colab_type": "code",
        "colab": {}
      },
      "source": [
        "w = [0,0,0,0]\n",
        "x = [ [-1,-1,1,1], [1,1,1,1], [1,1,-1,1], [-1,-1,-1,1] ]"
      ],
      "execution_count": 18,
      "outputs": []
    },
    {
      "cell_type": "code",
      "metadata": {
        "id": "fL9Ur5cL4b53",
        "colab_type": "code",
        "colab": {}
      },
      "source": [
        "t = [1,1,1,-1]"
      ],
      "execution_count": 19,
      "outputs": []
    },
    {
      "cell_type": "code",
      "metadata": {
        "id": "8tW1w3hC4hGM",
        "colab_type": "code",
        "colab": {}
      },
      "source": [
        "b = 0"
      ],
      "execution_count": 20,
      "outputs": []
    },
    {
      "cell_type": "code",
      "metadata": {
        "id": "Em2NCIjP4iTi",
        "colab_type": "code",
        "colab": {}
      },
      "source": [
        "y = 0"
      ],
      "execution_count": 21,
      "outputs": []
    },
    {
      "cell_type": "code",
      "metadata": {
        "id": "-EJOoh204ovC",
        "colab_type": "code",
        "colab": {}
      },
      "source": [
        "max_int = 10"
      ],
      "execution_count": 22,
      "outputs": []
    },
    {
      "cell_type": "code",
      "metadata": {
        "id": "Of8LayrZ4rvT",
        "colab_type": "code",
        "colab": {}
      },
      "source": [
        "taxa_aprendizado = 1"
      ],
      "execution_count": 23,
      "outputs": []
    },
    {
      "cell_type": "code",
      "metadata": {
        "id": "lc0W6FM14wCD",
        "colab_type": "code",
        "colab": {}
      },
      "source": [
        "soma =0"
      ],
      "execution_count": 24,
      "outputs": []
    },
    {
      "cell_type": "code",
      "metadata": {
        "id": "ClsQVc8Y4xPd",
        "colab_type": "code",
        "colab": {}
      },
      "source": [
        "threshold = 1"
      ],
      "execution_count": 25,
      "outputs": []
    },
    {
      "cell_type": "code",
      "metadata": {
        "id": "ldIeNuU84za7",
        "colab_type": "code",
        "colab": {}
      },
      "source": [
        "animal = \"\""
      ],
      "execution_count": 26,
      "outputs": []
    },
    {
      "cell_type": "code",
      "metadata": {
        "id": "HJ2aXrIS40qs",
        "colab_type": "code",
        "colab": {}
      },
      "source": [
        "resposta = \"\""
      ],
      "execution_count": 27,
      "outputs": []
    },
    {
      "cell_type": "code",
      "metadata": {
        "id": "zHidVPrX42lL",
        "colab_type": "code",
        "colab": {}
      },
      "source": [
        "d = {'-1,-1,1,1' : 'cao', '1,1,1,1' : 'gato', '1,1,-1,1' : 'cavalo', '-1,-1,-1,1' : 'homem', }"
      ],
      "execution_count": 28,
      "outputs": []
    },
    {
      "cell_type": "code",
      "metadata": {
        "id": "QgdXMOuQ5I60",
        "colab_type": "code",
        "colab": {
          "base_uri": "https://localhost:8080/",
          "height": 34
        },
        "outputId": "46c60cf7-6e33-4f53-e9d8-0742315e068e"
      },
      "source": [
        "print(\"Treinanmento\")"
      ],
      "execution_count": 29,
      "outputs": [
        {
          "output_type": "stream",
          "text": [
            "Treinanmento\n"
          ],
          "name": "stdout"
        }
      ]
    },
    {
      "cell_type": "code",
      "metadata": {
        "id": "dqunbnNm5M_t",
        "colab_type": "code",
        "colab": {}
      },
      "source": [
        "def listToString(List):\n",
        "  s = str(List).strip(['[]'])\n",
        "  s = s.replace(' ', '')\n",
        "  return s"
      ],
      "execution_count": 32,
      "outputs": []
    },
    {
      "cell_type": "code",
      "metadata": {
        "id": "hYuaIeOz5cLl",
        "colab_type": "code",
        "colab": {
          "base_uri": "https://localhost:8080/",
          "height": 367
        },
        "outputId": "8d568d3a-324f-44be-c9a1-84c37b71268b"
      },
      "source": [
        "for k in range (1, max_int):\n",
        "  acertos = 0\n",
        "  print(\"Interação \" + str(k) + \" -----------------------\")\n",
        "  for i in range(0,len(x)):\n",
        "    soma = 0\n",
        "\n",
        "    print(\"\"+str(x[i]))\n",
        "    if ( listToString(x[i]) ) in d: #error\n",
        "      animal = d[listToString(x[i])]\n",
        "    else:\n",
        "      animal = \"\"\n",
        "\n",
        "      for j in range(0,len(x[i])):\n",
        "        soma += x[1][j] * w[j]\n",
        "\n",
        "      y_in = b + soma\n",
        "\n",
        "      if y_in > threshold:\n",
        "        y = 1\n",
        "      elif y_in >= -threshold and y_in <= threshold:\n",
        "        y = 0\n",
        "      else:\n",
        "        y = -1\n",
        "\n",
        "      if y == t[i]:\n",
        "        acertos += 1\n",
        "        resposta = \"acerto\"\n",
        "      else:\n",
        "        for j in range (0,len(w)):\n",
        "          w[j] = w[j] + (taxa_aprendizado * t[i] * x[i][j])\n",
        "          print (\"Novo peso \" + str(j) + \" \" + str(w[j]))\n",
        "        \n",
        "        b=t[i] - 1\n",
        "        resposta = \"Falha - Peso atualizado Bias = \" + str(b)\n",
        "\n",
        "      if y ==1:\n",
        "        print(animal+\" = quadrupede = \"+resposta)\n",
        "      elif y==0:\n",
        "        print(animal+\" = padrao nao identificado = \"+resposta)\n",
        "      elif y == -1:\n",
        "        print(animal+\" = bipede = \"+resposta)\n",
        "\n",
        "  if acertos == len(x):\n",
        "    print (\"Funcionalidade aprendida com \" + str(k) + \"interações\")\n",
        "    break;\n",
        "\n",
        "  print(\"--- Fim ---\")"
      ],
      "execution_count": 38,
      "outputs": [
        {
          "output_type": "stream",
          "text": [
            "Interação 1 -----------------------\n",
            "[-1, -1, 1, 1]\n"
          ],
          "name": "stdout"
        },
        {
          "output_type": "error",
          "ename": "TypeError",
          "evalue": "ignored",
          "traceback": [
            "\u001b[0;31m---------------------------------------------------------------------------\u001b[0m",
            "\u001b[0;31mTypeError\u001b[0m                                 Traceback (most recent call last)",
            "\u001b[0;32m<ipython-input-38-b4912b350d75>\u001b[0m in \u001b[0;36m<module>\u001b[0;34m()\u001b[0m\n\u001b[1;32m      6\u001b[0m \u001b[0;34m\u001b[0m\u001b[0m\n\u001b[1;32m      7\u001b[0m     \u001b[0mprint\u001b[0m\u001b[0;34m(\u001b[0m\u001b[0;34m\"\"\u001b[0m\u001b[0;34m+\u001b[0m\u001b[0mstr\u001b[0m\u001b[0;34m(\u001b[0m\u001b[0mx\u001b[0m\u001b[0;34m[\u001b[0m\u001b[0mi\u001b[0m\u001b[0;34m]\u001b[0m\u001b[0;34m)\u001b[0m\u001b[0;34m)\u001b[0m\u001b[0;34m\u001b[0m\u001b[0;34m\u001b[0m\u001b[0m\n\u001b[0;32m----> 8\u001b[0;31m     \u001b[0;32mif\u001b[0m \u001b[0;34m(\u001b[0m \u001b[0mlistToString\u001b[0m\u001b[0;34m(\u001b[0m\u001b[0mx\u001b[0m\u001b[0;34m[\u001b[0m\u001b[0mi\u001b[0m\u001b[0;34m]\u001b[0m\u001b[0;34m)\u001b[0m \u001b[0;34m)\u001b[0m \u001b[0;32min\u001b[0m \u001b[0md\u001b[0m\u001b[0;34m:\u001b[0m\u001b[0;34m\u001b[0m\u001b[0;34m\u001b[0m\u001b[0m\n\u001b[0m\u001b[1;32m      9\u001b[0m       \u001b[0manimal\u001b[0m \u001b[0;34m=\u001b[0m \u001b[0md\u001b[0m\u001b[0;34m[\u001b[0m\u001b[0mlistToString\u001b[0m\u001b[0;34m(\u001b[0m\u001b[0mx\u001b[0m\u001b[0;34m[\u001b[0m\u001b[0mi\u001b[0m\u001b[0;34m]\u001b[0m\u001b[0;34m)\u001b[0m\u001b[0;34m]\u001b[0m\u001b[0;34m\u001b[0m\u001b[0;34m\u001b[0m\u001b[0m\n\u001b[1;32m     10\u001b[0m     \u001b[0;32melse\u001b[0m\u001b[0;34m:\u001b[0m\u001b[0;34m\u001b[0m\u001b[0;34m\u001b[0m\u001b[0m\n",
            "\u001b[0;32m<ipython-input-32-31988d0566b4>\u001b[0m in \u001b[0;36mlistToString\u001b[0;34m(List)\u001b[0m\n\u001b[1;32m      1\u001b[0m \u001b[0;32mdef\u001b[0m \u001b[0mlistToString\u001b[0m\u001b[0;34m(\u001b[0m\u001b[0mList\u001b[0m\u001b[0;34m)\u001b[0m\u001b[0;34m:\u001b[0m\u001b[0;34m\u001b[0m\u001b[0;34m\u001b[0m\u001b[0m\n\u001b[0;32m----> 2\u001b[0;31m   \u001b[0ms\u001b[0m \u001b[0;34m=\u001b[0m \u001b[0mstr\u001b[0m\u001b[0;34m(\u001b[0m\u001b[0mList\u001b[0m\u001b[0;34m)\u001b[0m\u001b[0;34m.\u001b[0m\u001b[0mstrip\u001b[0m\u001b[0;34m(\u001b[0m\u001b[0;34m[\u001b[0m\u001b[0;34m'[]'\u001b[0m\u001b[0;34m]\u001b[0m\u001b[0;34m)\u001b[0m\u001b[0;34m\u001b[0m\u001b[0;34m\u001b[0m\u001b[0m\n\u001b[0m\u001b[1;32m      3\u001b[0m   \u001b[0ms\u001b[0m \u001b[0;34m=\u001b[0m \u001b[0ms\u001b[0m\u001b[0;34m.\u001b[0m\u001b[0mreplace\u001b[0m\u001b[0;34m(\u001b[0m\u001b[0;34m' '\u001b[0m\u001b[0;34m,\u001b[0m \u001b[0;34m''\u001b[0m\u001b[0;34m)\u001b[0m\u001b[0;34m\u001b[0m\u001b[0;34m\u001b[0m\u001b[0m\n\u001b[1;32m      4\u001b[0m   \u001b[0;32mreturn\u001b[0m \u001b[0ms\u001b[0m\u001b[0;34m\u001b[0m\u001b[0;34m\u001b[0m\u001b[0m\n",
            "\u001b[0;31mTypeError\u001b[0m: strip arg must be None or str"
          ]
        }
      ]
    }
  ]
}