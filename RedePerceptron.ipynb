{
  "nbformat": 4,
  "nbformat_minor": 0,
  "metadata": {
    "colab": {
      "name": "RedePerceptron.ipynb",
      "provenance": [],
      "collapsed_sections": [],
      "authorship_tag": "ABX9TyMQgEB/j3pYOADJz4/vHx3t",
      "include_colab_link": true
    },
    "kernelspec": {
      "name": "python3",
      "display_name": "Python 3"
    }
  },
  "cells": [
    {
      "cell_type": "markdown",
      "metadata": {
        "id": "view-in-github",
        "colab_type": "text"
      },
      "source": [
        "<a href=\"https://colab.research.google.com/github/danielaolage/machineLearning/blob/master/RedePerceptron.ipynb\" target=\"_parent\"><img src=\"https://colab.research.google.com/assets/colab-badge.svg\" alt=\"Open In Colab\"/></a>"
      ]
    },
    {
      "cell_type": "code",
      "metadata": {
        "id": "n6SjVRMgzvCV",
        "colab_type": "code",
        "colab": {
          "base_uri": "https://localhost:8080/",
          "height": 204
        },
        "outputId": "b2da869e-fe54-4b69-f070-d614bd36dc9a"
      },
      "source": [
        "w = [0,0,0,0]\n",
        "x = [ [-1,-1,1,1], [1,1,1,1], [1,1,-1,1], [-1,-1,-1,1] ]\n",
        "t = [1,1,1,-1]\n",
        "b = 0\n",
        "y = 0\n",
        "max_int = 10\n",
        "taxa_aprendizado = 1\n",
        "soma =0\n",
        "threshold = 1\n",
        "animal = \"\"\n",
        "resposta = \"\"\n",
        "d = {'-1,-1,1,1' : 'cao', '1,1,1,1' : 'gato', '1,1,-1,1' : 'cavalo', '-1,-1,-1,1' : 'homem', }\n",
        "\n",
        "print(\"---Treinanmento---\")\n",
        "\n",
        "def listToString(List):\n",
        "  s = str(List).strip('[]')\n",
        "  s = s.replace(' ', '')\n",
        "  return s\n",
        "\n",
        "for k in range (1, max_int):\n",
        "  acertos = 0\n",
        "  print(\"Interacao \" + str(k))\n",
        "  for i in range(0,len(x)):\n",
        "    soma = 0\n",
        "    if ( listToString(x[i]) ) in d:\n",
        "      animal = d[listToString(x[i])]\n",
        "    else:\n",
        "      animal = \"\"\n",
        "\n",
        "      for j in range(0,len(x[i])):\n",
        "        soma += x[1][j] * w[j]\n",
        "\n",
        "      y_in = b + soma\n",
        "\n",
        "      if y_in > threshold:\n",
        "        y = 1\n",
        "      elif y_in >= -threshold and y_in <= threshold:\n",
        "        y = 0\n",
        "      else:\n",
        "        y = -1\n",
        "\n",
        "      if y == t[i]:\n",
        "        acertos += 1\n",
        "        resposta = \"acerto\"\n",
        "      else:\n",
        "        for j in range (0,len(w)):\n",
        "          w[j] = w[j] + (taxa_aprendizado * t[i] * x[i][j])\n",
        "          print (\"Novo peso \" + str(j) + \" \" + str(w[j]))\n",
        "        \n",
        "        b=t[i] - 1\n",
        "        resposta = \"Falha - Peso atualizado Bias = \" + str(b)\n",
        "\n",
        "      if y ==1:\n",
        "        print(animal+\" = quadrupede = \"+resposta)\n",
        "      elif y==0:\n",
        "        print(animal+\" = padrao nao identificado = \"+resposta)\n",
        "      elif y == -1:\n",
        "        print(animal+\" = bipede = \"+resposta)\n",
        "\n",
        "  if acertos == len(x):\n",
        "    print (\"Funcionalidade aprendida com \" + str(k) + \"interacoes\")\n",
        "    break;\n",
        "\n",
        "print(\"--- Fim ---\")"
      ],
      "execution_count": 52,
      "outputs": [
        {
          "output_type": "stream",
          "text": [
            "---Treinanmento---\n",
            "Interacao 1\n",
            "Interacao 2\n",
            "Interacao 3\n",
            "Interacao 4\n",
            "Interacao 5\n",
            "Interacao 6\n",
            "Interacao 7\n",
            "Interacao 8\n",
            "Interacao 9\n",
            "--- Fim ---\n"
          ],
          "name": "stdout"
        }
      ]
    },
    {
      "cell_type": "markdown",
      "metadata": {
        "id": "vweX5Iue_a7L",
        "colab_type": "text"
      },
      "source": [
        ""
      ]
    }
  ]
}