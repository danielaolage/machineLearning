{
  "nbformat": 4,
  "nbformat_minor": 0,
  "metadata": {
    "colab": {
      "name": "DeepLearning_FashionMNIST_Keras_Sequential",
      "private_outputs": true,
      "provenance": [],
      "collapsed_sections": [
        "jpBUQG9T9NfG",
        "BLe5tAdr5y45",
        "sAug7O1z_6rD"
      ],
      "authorship_tag": "ABX9TyNPOxlwxZMuTDeuACR9eyeR",
      "include_colab_link": true
    },
    "kernelspec": {
      "name": "python3",
      "display_name": "Python 3"
    },
    "language_info": {
      "name": "python"
    },
    "accelerator": "GPU"
  },
  "cells": [
    {
      "cell_type": "markdown",
      "metadata": {
        "id": "view-in-github",
        "colab_type": "text"
      },
      "source": [
        "<a href=\"https://colab.research.google.com/github/danielaolage/machineLearning/blob/master/DeepLearning_FashionMNIST_Keras_Sequential.ipynb\" target=\"_parent\"><img src=\"https://colab.research.google.com/assets/colab-badge.svg\" alt=\"Open In Colab\"/></a>"
      ]
    },
    {
      "cell_type": "markdown",
      "metadata": {
        "id": "jpBUQG9T9NfG"
      },
      "source": [
        "# Classificação Fashion MNIST\n",
        "Sequential"
      ]
    },
    {
      "cell_type": "code",
      "metadata": {
        "id": "UefcH8Qd9OnW"
      },
      "source": [
        "import numpy as np; #importa biblioteca para manipulação de matrizes\n",
        "from matplotlib import pyplot as plt; #importa bilbioteca para criação de gráficos\n",
        "\n",
        "#início das importações de classes do Keras (modelos de Deep Learning)\n",
        "from keras.datasets import fashion_mnist; #importa dataset fashion_mnist\n",
        "from keras.models import Sequential       #importa um modelo sequencial\n",
        "from keras.layers import Dense            #importa camadas totalmente conectadas\n",
        "from keras.layers import Dropout          #importa a estrutura de dropout\n",
        "from keras.utils import np_utils          #importa biblioteca de utilidades do Keras"
      ],
      "execution_count": null,
      "outputs": []
    },
    {
      "cell_type": "markdown",
      "metadata": {
        "id": "t44TSCvP9M0H"
      },
      "source": [
        "Carregando o dataset em entrada e saida de treino e entrada e saída de teste"
      ]
    },
    {
      "cell_type": "code",
      "metadata": {
        "id": "RwIoCg8A5x4U"
      },
      "source": [
        "(X_train, y_train), (X_test, y_test) = fashion_mnist.load_data()"
      ],
      "execution_count": null,
      "outputs": []
    },
    {
      "cell_type": "markdown",
      "metadata": {
        "id": "BLe5tAdr5y45"
      },
      "source": [
        "# Quantos são os pixels de cada amostra para serem utilizados na rede? "
      ]
    },
    {
      "cell_type": "code",
      "metadata": {
        "id": "yT-ueFKe6Pnp"
      },
      "source": [
        "num_pixels = X_train.shape[1] * X_train.shape[2] # calcula o total de pixels da imagem\n",
        "print(num_pixels)"
      ],
      "execution_count": null,
      "outputs": []
    },
    {
      "cell_type": "code",
      "metadata": {
        "id": "_ZlAySn6-4qH"
      },
      "source": [
        "# transforma pixels para float\n",
        "X_train2 = X_train.reshape(X_train.shape[0], num_pixels).astype('float32')\n",
        "X_test2 = X_test.reshape(X_test.shape[0], num_pixels).astype('float32')\n",
        "\n",
        "# normaliza os valores entre 0 e 1\n",
        "X_train2 = X_train2 / 255\n",
        "X_test2 = X_test2 / 255"
      ],
      "execution_count": null,
      "outputs": []
    },
    {
      "cell_type": "code",
      "metadata": {
        "id": "LLxGn9LR6tNC"
      },
      "source": [
        "# transforma os y em one-hot vector\n",
        "y_train_h = np_utils.to_categorical(y_train)\n",
        "y_test_h = np_utils.to_categorical(y_test)"
      ],
      "execution_count": null,
      "outputs": []
    },
    {
      "cell_type": "markdown",
      "metadata": {
        "id": "aU_zsAyt_CyX"
      },
      "source": [
        "# Quantas são as classes presentes no problema? "
      ]
    },
    {
      "cell_type": "code",
      "metadata": {
        "id": "_vMp1DP4_JXl"
      },
      "source": [
        "# obtém o número de classes do problema\n",
        "num_classes = y_test_h.shape[1]\n",
        "print(num_classes)"
      ],
      "execution_count": null,
      "outputs": []
    },
    {
      "cell_type": "markdown",
      "metadata": {
        "id": "Agh1da2q5_kQ"
      },
      "source": [
        "# Quantos baias são presentes na segunda rede e quantos pesos existem conectando a penúltima e a última camada da segunda rede?"
      ]
    },
    {
      "cell_type": "code",
      "metadata": {
        "id": "4g5KbBc27Eo5"
      },
      "source": [
        "model = Sequential()\n",
        "\n",
        "model.add(Dense(num_pixels, input_dim=num_pixels, kernel_initializer='normal', activation='relu')) # entrada\n",
        "model.add(Dense(1024, kernel_initializer='normal', activation='relu')) # camada 1\n",
        "model.add(Dense(2048, kernel_initializer='normal', activation='relu')) # camada 2\n",
        "model.add(Dense(2048, kernel_initializer='normal', activation='relu')) # camada 3\n",
        "model.add(Dense(num_classes, kernel_initializer='normal', activation='softmax')) # saida\n",
        "\n",
        "model.summary()\n",
        "\n",
        "# total de baias\n",
        "print(784+1024+2048+2048+10)\n",
        "\n",
        "# total de pesos\n",
        "# sabendo que parametros é a multiplicação dos pesos + baias\n",
        "print(2048 * 10)\n",
        "# ou ultimo parametro - ultima baia\n",
        "print(20490 - 10)\n"
      ],
      "execution_count": null,
      "outputs": []
    },
    {
      "cell_type": "code",
      "metadata": {
        "id": "vKtwlubz_Huk"
      },
      "source": [
        "# compila o modelo criado\n",
        "model.compile(loss='categorical_crossentropy', optimizer='adam', metrics=['accuracy'])\n",
        "model.fit(X_train2, y_train_h, validation_data=(X_test2, y_test_h), epochs=20, verbose=1, batch_size = 100) # executa o treinamento\n",
        "\n",
        "scores = model.evaluate(X_test2, y_test_h, verbose=0)\n",
        "print(\"%s: %.2f%%\" % (model.metrics_names[1], scores[1]*100))"
      ],
      "execution_count": null,
      "outputs": []
    },
    {
      "cell_type": "markdown",
      "metadata": {
        "id": "Wuj1oNJuAeWs"
      },
      "source": [
        "# Se você utilizar a função de ativação relu na camada de saída da segunda rede, qual o valor obtido na loss?"
      ]
    },
    {
      "cell_type": "code",
      "metadata": {
        "id": "Wf_aC5xx7uJy"
      },
      "source": [
        "model = Sequential()\n",
        "\n",
        "model.add(Dense(num_pixels, input_dim=num_pixels, kernel_initializer='normal', activation='relu'))  # camada oculta 1\n",
        "model.add(Dense(1024, kernel_initializer='normal', activation='relu'))                              # camada oculta 2\n",
        "model.add(Dense(2048, kernel_initializer='normal', activation='relu'))                              # camada oculta 3\n",
        "model.add(Dense(2048, kernel_initializer='normal', activation='relu'))                              # camada oculta 4\n",
        "model.add(Dense(num_classes, kernel_initializer='normal', activation='relu'))                       # camada de saida\n",
        "\n",
        "model.summary()"
      ],
      "execution_count": null,
      "outputs": []
    },
    {
      "cell_type": "markdown",
      "metadata": {
        "id": "sAug7O1z_6rD"
      },
      "source": [
        "Valor do loss "
      ]
    },
    {
      "cell_type": "code",
      "metadata": {
        "id": "q-tP-YWw73pj"
      },
      "source": [
        "# compila o modelo criado\n",
        "model.compile(loss='categorical_crossentropy', optimizer='adam', metrics=['accuracy'])\n",
        "model.fit(X_train2, y_train_h, validation_data=(X_test2, y_test_h), epochs=20, verbose=1, batch_size = 100) # executa o treinamento\n",
        "\n",
        "scores = model.evaluate(X_test2, y_test_h, verbose=0)\n",
        "print(\"%s: %.2f%%\" % (model.metrics_names[1], scores[1]*100))"
      ],
      "execution_count": null,
      "outputs": []
    },
    {
      "cell_type": "code",
      "metadata": {
        "id": "OoJ7Sn8a8FV5"
      },
      "source": [
        "x = X_train2[4000]\n",
        "print(x.shape)\n",
        "x = np.expand_dims(x, axis=0)\n",
        "print(x.shape)\n",
        "print(model.predict(x))\n",
        "print(np.argmax(model.predict(x)))"
      ],
      "execution_count": null,
      "outputs": []
    }
  ]
}