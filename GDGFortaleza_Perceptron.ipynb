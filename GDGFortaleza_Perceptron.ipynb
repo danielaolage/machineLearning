{
  "nbformat": 4,
  "nbformat_minor": 0,
  "metadata": {
    "colab": {
      "name": "GDGFortaleza_Perceptron.ipynb",
      "provenance": [],
      "authorship_tag": "ABX9TyPeLnl5IOUeMQAFAfg0gKPB",
      "include_colab_link": true
    },
    "kernelspec": {
      "name": "python3",
      "display_name": "Python 3"
    },
    "language_info": {
      "name": "python"
    }
  },
  "cells": [
    {
      "cell_type": "markdown",
      "metadata": {
        "id": "view-in-github",
        "colab_type": "text"
      },
      "source": [
        "<a href=\"https://colab.research.google.com/github/danielaolage/machineLearning/blob/master/GDGFortaleza_Perceptron.ipynb\" target=\"_parent\"><img src=\"https://colab.research.google.com/assets/colab-badge.svg\" alt=\"Open In Colab\"/></a>"
      ]
    },
    {
      "cell_type": "markdown",
      "source": [
        "Perceptron"
      ],
      "metadata": {
        "id": "5LvQuGx2euAj"
      }
    },
    {
      "cell_type": "markdown",
      "source": [
        "Algoritmo para identificar se o alimento é fruta ou legume/verdura\n",
        "\n",
        "Repolho   = [ 1,  1,  1,  1] =>  1\n",
        "\n",
        "Berinjela = [-1, -1,  1,  1] =>  1\n",
        "\n",
        "Amora     = [-1, -1, -1,  1] => -1\n",
        "\n",
        "Beterraba = [ 1,  1, -1,  1] =>  1\n",
        "\n"
      ],
      "metadata": {
        "id": "ZzVwRgjVfKWB"
      }
    },
    {
      "cell_type": "code",
      "source": [
        "# pesos (sinapses)\n",
        "w = [0.1, 0.5, 0.2, 0.7]\n",
        "\n",
        "# entradas\n",
        "x = [ [1,1,1,1], [-1,-1,1,1], [-1,-1,-1,1], [1,1,-1,1]]\n",
        "\n",
        "# respostas ou classes esperadas\n",
        "t = [ 1, 1, -1, 1]\n",
        "\n",
        "# bias (ajuste fino)\n",
        "o = 0\n",
        "\n",
        "# saída\n",
        "y = 0\n",
        "\n",
        "# número máximo de iterações\n",
        "max_it = 10\n",
        "\n",
        "# taxa de aprendizado\n",
        "n = 1\n",
        "\n",
        "# soma\n",
        "soma = 0\n",
        "\n",
        "# threshold\n",
        "threshold = 1\n",
        "\n",
        "# nome do alimento\n",
        "alimento = \"\"\n",
        "\n",
        "# resposta = acerto ou falha\n",
        "resposta = \"\"\n",
        "\n",
        "# dicionário de dados das entradas\n",
        "dicionario = {'1,1,1,1'  : 'Repolho',  '-1,-1,1,1' : 'Berinjela' ,  '-1,-1,-1,1' : 'Amora',  '1,1,-1,1'  : 'Beterraba' }\n",
        "\n",
        "print('Treinando...')\n",
        "\n",
        "# função para converter listas em strings\n",
        "def listToString(lista):\n",
        "  s = str(lista).strip('[]')\n",
        "  s = s.replace(' ', '')\n",
        "  return s\n",
        "\n",
        "# início do algoritmo\n",
        "for k in range (1, max_it):\n",
        "  acertos = 0\n",
        "  print(\"ITERACAO \" + str(k))\n",
        "  for i in range(0,len(x)):\n",
        "    soma = 0\n",
        "    # pega o nome do alimento do dicionário\n",
        "    if (listToString(x[i])) in dicionario:\n",
        "      alimento = dicionario[listToString(x[i])]\n",
        "    else: \n",
        "      alimento = \"\"\n",
        "\n",
        "    # saída do perceptron = entrada x peso\n",
        "    for j in range(0,len(x[i])):\n",
        "      soma += x[i][j] * w[j] \n",
        "\n",
        "    # a saida é igual a adição do bias (viés) com a soma anterior\n",
        "    y_in = o + soma\n",
        "\n",
        "    # funcao de saída é determinada pelo threshold\n",
        "    if y_in > threshold:\n",
        "      y = 1\n",
        "    elif y_in >= -threshold and y_in <= threshold:\n",
        "      y = 0\n",
        "    else:\n",
        "      y = -1\n",
        "\n",
        "    #atualiza os pesos caso a saida não corresponda à classe ou resultado esperado\n",
        "    if y == t[i]:\n",
        "      acertos += 1\n",
        "      resposta = 'acertou'\n",
        "    else:\n",
        "      for j in range (0, len(w)):\n",
        "        # peso = peso anterior + (taxa de aprendizado * classe esperada * valor de entrada)\n",
        "        w[j] = w[j] + n * t[i] * x[i][j]\n",
        "        print(\"Novo peso \" + str(j) + \" \" + str(w[j]))\n",
        "      # bias ou erro = classe anterior - classe atual\n",
        "      o = t[i] - y\n",
        "      resposta = \"Falha - Peso atualizado + Bias = \" + str(o)\n",
        "    #imprime a resposta\n",
        "    if y == 1:\n",
        "      print(alimento + \" = legume/verdura = \" + resposta)\n",
        "    elif y == 0 :\n",
        "      print(alimento + \" = padrão não identificado = \" + resposta)\n",
        "    elif y == -1 :\n",
        "      print(alimento + \" = fruta = \" + resposta)\n",
        "  if acertos == len(x):\n",
        "    print(\"Funcionalidade aprendida com \" + str(k) + \" iterações\")\n",
        "    break;\n",
        "  print(\" \")\n",
        "print(\" \")\n",
        "print(\"Finalizado\")\n",
        "\n"
      ],
      "metadata": {
        "colab": {
          "base_uri": "https://localhost:8080/"
        },
        "id": "NHtESP50exV7",
        "outputId": "3e515ee6-78d6-4f46-d529-caf0dbd184aa"
      },
      "execution_count": 3,
      "outputs": [
        {
          "output_type": "stream",
          "name": "stdout",
          "text": [
            "Treinando...\n",
            "ITERACAO 1\n",
            "Repolho = legume/verdura = acertou\n",
            "Novo peso 0 -0.9\n",
            "Novo peso 1 -0.5\n",
            "Novo peso 2 1.2\n",
            "Novo peso 3 1.7\n",
            "Berinjela = padrão não identificado = Falha - Peso atualizado + Bias = 1\n",
            "Novo peso 0 0.09999999999999998\n",
            "Novo peso 1 0.5\n",
            "Novo peso 2 2.2\n",
            "Novo peso 3 0.7\n",
            "Amora = legume/verdura = Falha - Peso atualizado + Bias = -2\n",
            "Novo peso 0 1.1\n",
            "Novo peso 1 1.5\n",
            "Novo peso 2 1.2000000000000002\n",
            "Novo peso 3 1.7\n",
            "Beterraba = fruta = Falha - Peso atualizado + Bias = 2\n",
            " \n",
            "ITERACAO 2\n",
            "Repolho = legume/verdura = acertou\n",
            "Berinjela = legume/verdura = acertou\n",
            "Novo peso 0 2.1\n",
            "Novo peso 1 2.5\n",
            "Novo peso 2 2.2\n",
            "Novo peso 3 0.7\n",
            "Amora = padrão não identificado = Falha - Peso atualizado + Bias = -1\n",
            "Beterraba = legume/verdura = acertou\n",
            " \n",
            "ITERACAO 3\n",
            "Repolho = legume/verdura = acertou\n",
            "Novo peso 0 1.1\n",
            "Novo peso 1 1.5\n",
            "Novo peso 2 3.2\n",
            "Novo peso 3 1.7\n",
            "Berinjela = fruta = Falha - Peso atualizado + Bias = 2\n",
            "Amora = fruta = acertou\n",
            "Beterraba = legume/verdura = acertou\n",
            " \n",
            "ITERACAO 4\n",
            "Repolho = legume/verdura = acertou\n",
            "Berinjela = legume/verdura = acertou\n",
            "Amora = fruta = acertou\n",
            "Beterraba = legume/verdura = acertou\n",
            "Funcionalidade aprendida com 4 iterações\n",
            " \n",
            "Finalizado\n"
          ]
        }
      ]
    }
  ]
}